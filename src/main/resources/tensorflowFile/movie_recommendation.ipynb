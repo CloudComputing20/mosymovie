{
 "nbformat": 4,
 "nbformat_minor": 0,
 "metadata": {
  "colab": {
   "provenance": [],
   "gpuType": "T4"
  },
  "kernelspec": {
   "name": "python3",
   "display_name": "Python 3"
  },
  "language_info": {
   "name": "python"
  },
  "accelerator": "GPU"
 },
 "cells": [
  {
   "cell_type": "code",
   "execution_count": 4,
   "metadata": {
    "colab": {
     "base_uri": "https://localhost:8080/"
    },
    "id": "feVPHa9g3fuD",
    "outputId": "58ff94d2-440c-42fc-891a-19b4cc65db6f"
   },
   "outputs": [
    {
     "name": "stdout",
     "output_type": "stream",
     "text": [
      "Requirement already satisfied: surprise in c:\\users\\he308\\appdata\\local\\programs\\python\\python311\\lib\\site-packages (0.1)"
     ]
    },
    {
     "name": "stderr",
     "output_type": "stream",
     "text": [
      "\n",
      "[notice] A new release of pip available: 22.3.1 -> 23.1.2\n",
      "[notice] To update, run: python.exe -m pip install --upgrade pip\n"
     ]
    },
    {
     "name": "stdout",
     "output_type": "stream",
     "text": [
      "\n",
      "Requirement already satisfied: scikit-surprise in c:\\users\\he308\\appdata\\local\\programs\\python\\python311\\lib\\site-packages (from surprise) (1.1.3)\n",
      "Requirement already satisfied: joblib>=1.0.0 in c:\\users\\he308\\appdata\\local\\programs\\python\\python311\\lib\\site-packages (from scikit-surprise->surprise) (1.2.0)\n",
      "Requirement already satisfied: numpy>=1.17.3 in c:\\users\\he308\\appdata\\local\\programs\\python\\python311\\lib\\site-packages (from scikit-surprise->surprise) (1.24.3)\n",
      "Requirement already satisfied: scipy>=1.3.2 in c:\\users\\he308\\appdata\\local\\programs\\python\\python311\\lib\\site-packages (from scikit-surprise->surprise) (1.10.1)\n"
     ]
    }
   ],
   "source": [
    "!pip install surprise"
   ]
  },
  {
   "cell_type": "code",
   "source": [
    "import pandas as pd\n",
    "from surprise import Reader, Dataset, SVDpp\n",
    "import random\n",
    "\n",
    "user_data = pd.read_csv('https://raw.githubusercontent.com/CloudComputing20/mosymovie_ai/main/userdata.csv', encoding='CP949')\n",
    "movie_data = pd.read_csv('https://raw.githubusercontent.com/CloudComputing20/mosymovie_ai/main/moviedata.csv', encoding='CP949')\n",
    "input_data = pd.read_csv('https://raw.githubusercontent.com/CloudComputing20/mosymovie_ai/main/nowPlayingMovie_1.csv', encoding='CP949')\n",
    "\n",
    "reader = Reader(rating_scale=(1, 5))\n",
    "data = Dataset.load_from_df(user_data[['userId', 'movieId', 'rating']], reader)\n",
    "trainset = data.build_full_trainset()\n",
    "\n",
    "algo = SVDpp(n_factors=100, n_epochs=20, random_state=42)\n",
    "algo.fit(trainset)\n",
    "\n",
    "max_movie_id = movie_data['movieId'].max()\n",
    "\n",
    "for index, row in input_data.iterrows():\n",
    "    movie_name = row['title']\n",
    "    movie_genre = row['genres'].split('|')\n",
    "\n",
    "    new_movie_id = max_movie_id + 1\n",
    "    max_movie_id = new_movie_id\n",
    "    movie_data.loc[len(movie_data)] = [new_movie_id, movie_name, '|'.join(movie_genre)]\n",
    "\n",
    "    movie_id = new_movie_id\n",
    "\n",
    "    user_list = []\n",
    "    for user_id in user_data['userId'].unique():\n",
    "        user_ratings = user_data[user_data['userId'] == user_id]\n",
    "        user_movies = set(user_ratings['movieId'])\n",
    "        if movie_id not in user_movies:\n",
    "            user_avg_rating = user_ratings['rating'].mean()\n",
    "\n",
    "            est_rating = algo.predict(uid=user_id, iid=movie_id, r_ui=None, verbose=False).est * random.uniform(0.9, 1.1)\n",
    "            if est_rating >= user_avg_rating or est_rating >= 4:\n",
    "                user_list.append(user_id)\n",
    "\n",
    "    user_list.insert(0, movie_name)\n",
    "    print(user_list)\n",
    "\n",
    "    movie_data.drop(movie_data.tail(1).index, inplace=True)"
   ],
   "metadata": {
    "colab": {
     "base_uri": "https://localhost:8080/"
    },
    "id": "mCIGde2JncaP",
    "outputId": "552e4ed1-ab35-4fb5-e4c9-0691cf55bd0d"
   },
   "execution_count": 5,
   "outputs": [
    {
     "ename": "KeyboardInterrupt",
     "evalue": "",
     "output_type": "error",
     "traceback": [
      "\u001B[1;31m---------------------------------------------------------------------------\u001B[0m",
      "\u001B[1;31mKeyboardInterrupt\u001B[0m                         Traceback (most recent call last)",
      "Cell \u001B[1;32mIn[5], line 14\u001B[0m\n\u001B[0;32m     11\u001B[0m trainset \u001B[38;5;241m=\u001B[39m data\u001B[38;5;241m.\u001B[39mbuild_full_trainset()\n\u001B[0;32m     13\u001B[0m algo \u001B[38;5;241m=\u001B[39m SVDpp(n_factors\u001B[38;5;241m=\u001B[39m\u001B[38;5;241m100\u001B[39m, n_epochs\u001B[38;5;241m=\u001B[39m\u001B[38;5;241m20\u001B[39m, random_state\u001B[38;5;241m=\u001B[39m\u001B[38;5;241m42\u001B[39m)\n\u001B[1;32m---> 14\u001B[0m \u001B[43malgo\u001B[49m\u001B[38;5;241;43m.\u001B[39;49m\u001B[43mfit\u001B[49m\u001B[43m(\u001B[49m\u001B[43mtrainset\u001B[49m\u001B[43m)\u001B[49m\n\u001B[0;32m     16\u001B[0m max_movie_id \u001B[38;5;241m=\u001B[39m movie_data[\u001B[38;5;124m'\u001B[39m\u001B[38;5;124mmovieId\u001B[39m\u001B[38;5;124m'\u001B[39m]\u001B[38;5;241m.\u001B[39mmax()\n\u001B[0;32m     18\u001B[0m \u001B[38;5;28;01mfor\u001B[39;00m index, row \u001B[38;5;129;01min\u001B[39;00m input_data\u001B[38;5;241m.\u001B[39miterrows():\n",
      "File \u001B[1;32m~\\AppData\\Local\\Programs\\Python\\Python311\\Lib\\site-packages\\surprise\\prediction_algorithms\\matrix_factorization.pyx:400\u001B[0m, in \u001B[0;36msurprise.prediction_algorithms.matrix_factorization.SVDpp.fit\u001B[1;34m()\u001B[0m\n",
      "File \u001B[1;32m~\\AppData\\Local\\Programs\\Python\\Python311\\Lib\\site-packages\\surprise\\prediction_algorithms\\matrix_factorization.pyx:464\u001B[0m, in \u001B[0;36msurprise.prediction_algorithms.matrix_factorization.SVDpp.sgd\u001B[1;34m()\u001B[0m\n",
      "File \u001B[1;32m~\\AppData\\Local\\Programs\\Python\\Python311\\Lib\\site-packages\\surprise\\trainset.py:194\u001B[0m, in \u001B[0;36mTrainset.all_ratings\u001B[1;34m(self)\u001B[0m\n\u001B[0;32m    192\u001B[0m \u001B[38;5;28;01mfor\u001B[39;00m u, u_ratings \u001B[38;5;129;01min\u001B[39;00m \u001B[38;5;28mself\u001B[39m\u001B[38;5;241m.\u001B[39mur\u001B[38;5;241m.\u001B[39mitems():\n\u001B[0;32m    193\u001B[0m     \u001B[38;5;28;01mfor\u001B[39;00m i, r \u001B[38;5;129;01min\u001B[39;00m u_ratings:\n\u001B[1;32m--> 194\u001B[0m         \u001B[38;5;28;01myield\u001B[39;00m u, i, r\n",
      "\u001B[1;31mKeyboardInterrupt\u001B[0m: "
     ]
    }
   ]
  },
  {
   "cell_type": "code",
   "source": [],
   "metadata": {
    "colab": {
     "base_uri": "https://localhost:8080/",
     "height": 400
    },
    "id": "Vmv3O1ngwJ67",
    "outputId": "66b660e0-c07d-45c7-b937-14b0285d1080"
   },
   "execution_count": null,
   "outputs": []
  },
  {
   "cell_type": "code",
   "source": [],
   "metadata": {
    "id": "_FCS7DYJpWJR"
   },
   "execution_count": null,
   "outputs": []
  }
 ]
}
